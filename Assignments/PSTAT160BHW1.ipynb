{
 "cells": [
  {
   "cell_type": "markdown",
   "metadata": {},
   "source": [
    "# Python Homework 1\n",
    "\n",
    "**Release date:** Friday, April 3<br>\n",
    "**Due date:** Friday, April 17, at midnight via GauchoSpace\n",
    "\n",
    "**Instruction:** Please upload your jupyter notebook on GauchoSpace with filename __PythonHW1_YOURPERMNUMBER.ipynb__.\n"
   ]
  },
  {
   "cell_type": "markdown",
   "metadata": {},
   "source": [
    "Load some packages:"
   ]
  },
  {
   "cell_type": "code",
   "execution_count": 8,
   "metadata": {},
   "outputs": [],
   "source": [
    "import numpy as np\n",
    "import matplotlib.pyplot as plt\n",
    "import math"
   ]
  },
  {
   "cell_type": "markdown",
   "metadata": {},
   "source": [
    "## Problem 1 (5 Points)\n",
    "\n",
    "1. Implement the simulation of a Poisson process $(N_t)_{0 \\leq t \\leq 100}$ with parameter $\\lambda = 0.1$ on the time interval $[0,100]$. "
   ]
  },
  {
   "cell_type": "code",
   "execution_count": 5,
   "metadata": {},
   "outputs": [],
   "source": [
    "process = 0\n",
    "processPath = []\n",
    "processPath.append(process)\n",
    "\n",
    "while len(processPath) < 100:\n",
    "    outcome = np.random.poisson(0.1)\n",
    "    \n",
    "    process = process + outcome\n",
    "    \n",
    "    processPath.append(process)"
   ]
  },
  {
   "cell_type": "markdown",
   "metadata": {},
   "source": [
    "2. Plot a trajectory of your simulated process from part 1. "
   ]
  },
  {
   "cell_type": "code",
   "execution_count": 7,
   "metadata": {},
   "outputs": [
    {
     "data": {
      "text/plain": [
       "Text(0.5, 1.0, 'Poisson process lambda=0.1')"
      ]
     },
     "execution_count": 7,
     "metadata": {},
     "output_type": "execute_result"
    },
    {
     "data": {
      "image/png": "[encoded data removed]",
      "text/plain": [
       "<Figure size 720x360 with 1 Axes>"
      ]
     },
     "metadata": {
      "needs_background": "light"
     },
     "output_type": "display_data"
    }
   ],
   "source": [
    "plt.figure(figsize=(10,5))\n",
    "plt.plot(processPath)\n",
    "plt.xlabel('t')\n",
    "plt.ylabel('Nt')\n",
    "plt.title('Poisson process lambda=0.1')\n"
   ]
  },
  {
   "cell_type": "markdown",
   "metadata": {},
   "source": [
    "## Problem 2 (5 Points)"
   ]
  },
  {
   "cell_type": "markdown",
   "metadata": {},
   "source": [
    "1. Simulate a __compound Poisson process__ $(C_t)_{0 \\leq t \\leq 30}$ (see __Lecture 4__) with parameter $\\lambda=1/2$ on the time interval $[0,30]$ where the jumps $Y_1, Y_2, \\ldots$ are given as random variables\n",
    "\n",
    "$$ Y_i = e^{Z_i} \\qquad (i = 1,2,\\ldots)$$\n",
    "\n",
    "with $Z_1, Z_2, \\ldots$ i.i.d. normally distributed random variables with mean 0 and variance 1 (also independent of the underlying Poisson process $(N_t)_{0 \\leq t \\leq 30}$). Plot a trajectory of your simulated process.\n",
    "\n",
    "*Hint*: Use your method from Problem 1 to simulate the underlying Poisson Process $(N_t)_{0 \\leq t \\leq 30}$ driving the compound Poisson process $(C_t)_{0 \\leq t \\leq 30}$."
   ]
  },
  {
   "cell_type": "code",
   "execution_count": 10,
   "metadata": {},
   "outputs": [
    {
     "data": {
      "text/plain": [
       "Text(0.5, 1.0, 'Poisson process')"
      ]
     },
     "execution_count": 10,
     "metadata": {},
     "output_type": "execute_result"
    },
    {
     "data": {
      "image/png": "[encoded data removed]",
      "text/plain": [
       "<Figure size 720x360 with 1 Axes>"
      ]
     },
     "metadata": {
      "needs_background": "light"
     },
     "output_type": "display_data"
    }
   ],
   "source": [
    "process = 0\n",
    "processPath = []\n",
    "processPath.append(process)\n",
    "\n",
    "while len(processPath) < 30:\n",
    "    Z = np.random.normal(0,1)\n",
    "    jump_distribution = math.exp(Z)\n",
    "    jump_intesity = np.random.poisson(0.5)*jump_distribution\n",
    "    \n",
    "    process = process + jump_intesity\n",
    "    \n",
    "    processPath.append(process)\n",
    "    \n",
    "# Plot\n",
    "plt.figure(figsize=(10,5))\n",
    "plt.plot(processPath)\n",
    "plt.xlabel('t')\n",
    "plt.ylabel('Nt')\n",
    "plt.title('Poisson process')    "
   ]
  },
  {
   "cell_type": "markdown",
   "metadata": {},
   "source": [
    "2. Simulate $M=10000$ times the compound Poisson process from part 1 and compute the empricial mean and variance of your samples for the random variable $C_{30}$. Compare your empricial values with the exact theoretical values which are given by\n",
    "\n",
    "$$\\mathbb{E}[C_{30}] = \\mathbb{E}[N_{30}] \\cdot \\mathbb{E}[Y_1] \\qquad \\text{and} \\qquad \\text{Var}(C_{30}) = \\mathbb{E}[N_{30}] \\cdot \\mathbb{E}[Y^2_1].$$\n",
    "\n",
    "*Hint*: Recall that \n",
    "$$\\mathbb{E}[e^{Z_1}] = e^{0.5} \\qquad \\text{and} \\qquad  \\mathbb{E}[(e^{Z_1})^2] = e^2.$$"
   ]
  },
  {
   "cell_type": "code",
   "execution_count": null,
   "metadata": {},
   "outputs": [],
   "source": []
  },
  {
   "cell_type": "code",
   "execution_count": 76,
   "metadata": {},
   "outputs": [],
   "source": [
    "def C_30():\n",
    "    process = 0\n",
    "    processPath = []\n",
    "    processPath.append(process)\n",
    "\n",
    "    while len(processPath) < 30:\n",
    "        Z = np.random.normal(0,1)\n",
    "        jump_distribution = math.exp(Z)\n",
    "        jump_intesity = np.random.poisson(0.5)*jump_distribution\n",
    "\n",
    "        process = process + jump_intesity\n",
    "\n",
    "        processPath.append(process)\n",
    "\n",
    "    return processPath[29]"
   ]
  },
  {
   "cell_type": "code",
   "execution_count": 85,
   "metadata": {},
   "outputs": [],
   "source": [
    "C30 = []\n",
    "M = 10000\n",
    "for i in range(M):\n",
    "    C30.append(C_30())"
   ]
  },
  {
   "cell_type": "code",
   "execution_count": 86,
   "metadata": {},
   "outputs": [
    {
     "data": {
      "text/plain": [
       "23.839196415531838"
      ]
     },
     "execution_count": 86,
     "metadata": {},
     "output_type": "execute_result"
    }
   ],
   "source": [
    "# E[C_30]\n",
    "np.mean(C30)"
   ]
  },
  {
   "cell_type": "code",
   "execution_count": 89,
   "metadata": {},
   "outputs": [
    {
     "data": {
      "text/plain": [
       "24.730819060501922"
      ]
     },
     "execution_count": 89,
     "metadata": {},
     "output_type": "execute_result"
    }
   ],
   "source": [
    "# Empirical Mean\n",
    "15*np.exp(0.5)"
   ]
  },
  {
   "cell_type": "code",
   "execution_count": 3,
   "metadata": {},
   "outputs": [
    {
     "ename": "NameError",
     "evalue": "name 'np' is not defined",
     "output_type": "error",
     "traceback": [
      "\u001b[1;31m---------------------------------------------------------------------------\u001b[0m",
      "\u001b[1;31mNameError\u001b[0m                                 Traceback (most recent call last)",
      "\u001b[1;32m<ipython-input-3-52f1065e7188>\u001b[0m in \u001b[0;36m<module>\u001b[1;34m\u001b[0m\n\u001b[0;32m      1\u001b[0m \u001b[1;31m# Var(C_30)\u001b[0m\u001b[1;33m\u001b[0m\u001b[1;33m\u001b[0m\u001b[1;33m\u001b[0m\u001b[0m\n\u001b[1;32m----> 2\u001b[1;33m \u001b[0mnp\u001b[0m\u001b[1;33m.\u001b[0m\u001b[0mstd\u001b[0m\u001b[1;33m(\u001b[0m\u001b[0mC30\u001b[0m\u001b[1;33m)\u001b[0m\u001b[1;33m\u001b[0m\u001b[1;33m\u001b[0m\u001b[0m\n\u001b[0m",
      "\u001b[1;31mNameError\u001b[0m: name 'np' is not defined"
     ]
    }
   ],
   "source": [
    "# Var(C_30)\n",
    "np.std(C30)"
   ]
  },
  {
   "cell_type": "code",
   "execution_count": 90,
   "metadata": {},
   "outputs": [
    {
     "data": {
      "text/plain": [
       "110.83584148395975"
      ]
     },
     "execution_count": 90,
     "metadata": {},
     "output_type": "execute_result"
    }
   ],
   "source": [
    "# Empirical Variance\n",
    "15*np.exp(2)"
   ]
  },
  {
   "cell_type": "code",
   "execution_count": null,
   "metadata": {},
   "outputs": [],
   "source": []
  }
 ],
 "metadata": {
  "kernelspec": {
   "display_name": "Python 3",
   "language": "python",
   "name": "python3"
  },
  "language_info": {
   "codemirror_mode": {
    "name": "ipython",
    "version": 3
   },
   "file_extension": ".py",
   "mimetype": "text/x-python",
   "name": "python",
   "nbconvert_exporter": "python",
   "pygments_lexer": "ipython3",
   "version": "3.7.3"
  }
 },
 "nbformat": 4,
 "nbformat_minor": 2
}
