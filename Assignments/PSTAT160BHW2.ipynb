{
 "cells": [
  {
   "cell_type": "markdown",
   "metadata": {},
   "source": [
    "# Python Homework 2\n",
    "\n",
    "**Release date:** Saturday, April 18<br>\n",
    "**Due date:** Friday, __May 8 (!)__, at midnight via <font color=\"blue\">Gradescope</font> \n",
    "\n",
    "**Instruction:** Please upload your jupyter notebook on <font color=\"blue\">Gradescope</font> with filename __PythonHW2_YOURPERMNUMBER.ipynb__.\n"
   ]
  },
  {
   "cell_type": "markdown",
   "metadata": {},
   "source": [
    "Load some packages:"
   ]
  },
  {
   "cell_type": "code",
   "execution_count": 14,
   "metadata": {},
   "outputs": [],
   "source": [
    "import numpy as np\n",
    "import matplotlib.pyplot as plt\n",
    "import math\n",
    "from scipy.linalg import expm, sinm, cosm\n",
    "import scipy.linalg as la"
   ]
  },
  {
   "cell_type": "markdown",
   "metadata": {},
   "source": [
    "## Problem 1 (10 Points)\n",
    "\n",
    "Consider the continuous-time __Registration Line Markov Chain__ from Example 2.13 (Lecture 7).\n",
    "\n",
    "1. Implement a simulation of this Markov chain on the time interval $[0,60]$. "
   ]
  },
  {
   "cell_type": "code",
   "execution_count": 15,
   "metadata": {},
   "outputs": [],
   "source": [
    "arrival = 0\n",
    "service = 0\n",
    "state = 0\n",
    "chainPath = []\n",
    "chainPath.append(state)\n",
    "\n",
    "while len(chainPath) < 60:\n",
    "    arrival = np.random.poisson(0.25)\n",
    "    service = np.random.poisson(0.2)\n",
    "    outcome = arrival - service \n",
    "    state = state + outcome\n",
    "    if state < 0:\n",
    "        state = 0\n",
    "    if state > 4:\n",
    "        state = 4\n",
    "    chainPath.append(state)"
   ]
  },
  {
   "cell_type": "markdown",
   "metadata": {},
   "source": [
    "2. Plot a trajectory of this Markov Chain on $[0,60]$ by using your code from 1.\n",
    "\n",
    "<i>Hint:</i> You can use the <tt>plt.hlines()</tt> command to plot horizontal lines (check also the documentation online)."
   ]
  },
  {
   "cell_type": "code",
   "execution_count": 16,
   "metadata": {},
   "outputs": [
    {
     "data": {
      "image/png": "[encoded data removed]",
      "text/plain": [
       "<Figure size 432x288 with 1 Axes>"
      ]
     },
     "metadata": {
      "needs_background": "light"
     },
     "output_type": "display_data"
    }
   ],
   "source": [
    "plt.step(range(60), chainPath)\n",
    "plt.show()"
   ]
  },
  {
   "cell_type": "markdown",
   "metadata": {},
   "source": [
    "3. Compute the transition function $P(t)$ at $t = \\pi$.\n",
    "\n",
    "*Hint:* Use a suitable function from the <tt>scipy.linalg</tt> package (check also the documentation online)."
   ]
  },
  {
   "cell_type": "code",
   "execution_count": 18,
   "metadata": {},
   "outputs": [
    {
     "data": {
      "text/plain": [
       "array([[ 0.57957642,  0.21765992,  0.20276366,  0.        ,  0.        ],\n",
       "       [ 0.33633886,  0.0404739 ,  0.62318724,  0.        ,  0.        ],\n",
       "       [ 0.33633886, -0.9595261 ,  1.62318724,  0.        ,  0.        ],\n",
       "       [ 0.08476434, -0.22493574,  0.49961644,  0.3260868 ,  0.31446816],\n",
       "       [ 0.01848494, -0.04692438,  0.13630995,  0.25157452,  0.64055496]])"
      ]
     },
     "execution_count": 18,
     "metadata": {},
     "output_type": "execute_result"
    }
   ],
   "source": [
    "Q = np.matrix([[-1/4, 1/4, 0, 0, 0],\n",
    "                  [1/5, -9/20, 1/4, 0, 0],\n",
    "                  [1/5, -9/20, 1/4, 0, 0],\n",
    "                  [0, 0, 1/5, -9/20, 1/4],\n",
    "                  [0, 0, 0, 1/5, -1/5]])\n",
    "\n",
    "expm(math.pi*Q)"
   ]
  },
  {
   "cell_type": "markdown",
   "metadata": {},
   "source": [
    "4. Compute the stationary distribution of this continuous-time Markov chain.\n",
    "\n",
    "*Hint:* Use suitable functions from the <tt>numpy.linalg package</tt> (check also the documentation online)."
   ]
  },
  {
   "cell_type": "code",
   "execution_count": 19,
   "metadata": {},
   "outputs": [
    {
     "data": {
      "text/plain": [
       "array([ 3.97460274e+14, -6.80569268e+14,  2.24271831e+13,  7.57507153e+14,\n",
       "       -4.96825342e+14])"
      ]
     },
     "execution_count": 19,
     "metadata": {},
     "output_type": "execute_result"
    }
   ],
   "source": [
    "v = la.eig(Q, left=True, right=False)[1][:,0]\n",
    "v/sum(v)"
   ]
  },
  {
   "cell_type": "markdown",
   "metadata": {},
   "source": [
    "## Problem 2 (10 Points)\n",
    "\n",
    "Multistate Markov models are used in medicine to model the course of diseases. A patient may advance into, or recover from, successively more severe stages of a disease until some terminal state. Each stage represents a state of an absorbing continuous-time Markov chain. \n",
    "\n",
    "Bartolomeo et al. (2011) develop such a model to study the progression of liver disease among patients diagnosed with cirrhosis of the liver. The general form of the infinitesimal generator matrix $Q$ for their three-parameter model is\n",
    "\n",
    "$$ Q = \\begin{pmatrix} -(q_{12} + q_{13}) & q_{12} & q_{13} \\\\ 0 & -q_{23} & q_{23} \\\\ 0 & 0 & 0 \\end{pmatrix}  $$\n",
    "\n",
    "where state 1 represents cirrhosis, state 2 denotes liver cancer, and state 3 is death."
   ]
  },
  {
   "cell_type": "markdown",
   "metadata": {},
   "source": [
    "1. Starting from the first stage (\"cirrhosis\"), estimate the mean time to death (i.e. ending up in stage 3) by running 100,000 simulations. Use the transition rates\n",
    "\n",
    "$$ q_{12} = 0.0151, \\quad q_{13} = 0.0071, \\quad q_{23} = 0.0284.$$"
   ]
  },
  {
   "cell_type": "code",
   "execution_count": 6,
   "metadata": {},
   "outputs": [
    {
     "data": {
      "text/plain": [
       "69.04947232661571"
      ]
     },
     "execution_count": 6,
     "metadata": {},
     "output_type": "execute_result"
    }
   ],
   "source": [
    "simulated_values = []\n",
    "for i in range(100000):\n",
    "    state = 1\n",
    "    t = 0\n",
    "    while True:\n",
    "        if state == 1:\n",
    "            q12 = np.random.exponential(1/0.0151)\n",
    "            q13 = np.random.exponential(1/0.0071)\n",
    "            if q12 < q13:\n",
    "                t = t + q12\n",
    "                state = 2\n",
    "            else:\n",
    "                t = t + q13\n",
    "                break\n",
    "        if state == 2:\n",
    "            q23 = np.random.exponential(1/0.0284)\n",
    "            t = t + q23\n",
    "            break\n",
    "    simulated_values.append(t)\n",
    "\n",
    "np.mean(simulated_values)"
   ]
  },
  {
   "cell_type": "markdown",
   "metadata": {},
   "source": [
    "2. Compare your approximation from 1. with the exact theoretical mean time to death (implement a suitable formula from class).  "
   ]
  },
  {
   "cell_type": "code",
   "execution_count": 8,
   "metadata": {},
   "outputs": [
    {
     "data": {
      "text/plain": [
       "68.99505138941758"
      ]
     },
     "execution_count": 8,
     "metadata": {},
     "output_type": "execute_result"
    }
   ],
   "source": [
    "# From F = -V^(-1)\n",
    "q12 = 0.0151\n",
    "q13 = 0.0071\n",
    "q23 = 0.0284\n",
    "a1 = 1/(q12+q13)+q12/(q23*(q12+q13))\n",
    "a1"
   ]
  },
  {
   "cell_type": "code",
   "execution_count": null,
   "metadata": {},
   "outputs": [],
   "source": []
  }
 ],
 "metadata": {
  "kernelspec": {
   "display_name": "Python 3",
   "language": "python",
   "name": "python3"
  },
  "language_info": {
   "codemirror_mode": {
    "name": "ipython",
    "version": 3
   },
   "file_extension": ".py",
   "mimetype": "text/x-python",
   "name": "python",
   "nbconvert_exporter": "python",
   "pygments_lexer": "ipython3",
   "version": "3.7.3"
  }
 },
 "nbformat": 4,
 "nbformat_minor": 2
}
