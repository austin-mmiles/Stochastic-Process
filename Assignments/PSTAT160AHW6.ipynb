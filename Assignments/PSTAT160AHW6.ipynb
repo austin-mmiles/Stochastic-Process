{
 "cells": [
  {
   "cell_type": "markdown",
   "metadata": {},
   "source": [
    "# Python Homework 6\n",
    "\n",
    "**Release date:** Monday, Feb 24th <br>\n",
    "**Due date:** Friday, __Mar 6th__, 11:59 p.m. via GauchoSpace\n",
    "\n",
    "**Instruction:** Please upload your file on GauchoSpace with filename \"PythonHW6_YOURPERMNUMBER\"; a pdf or html file."
   ]
  },
  {
   "cell_type": "markdown",
   "metadata": {},
   "source": [
    "__Background:__ In mathematical finance, Markov chains are used to model the default risk of a company or country (more specifically, the default of a company's or country's liability like a corporate or government bond - see e.g. PSTAT 171 and PSTAT 170). \n",
    "\n",
    "Rating agencies (like <i>Standard & Poor’s</i>, <i>Moody’s</i>, <i>Fitch</i>) rate the financial stability of a company and classify them according to different classes. A possible classification may range from 'AAA' for debitors with a very good credit rating to 'CCC' for debitors which are very likely to delay in paying a debt; and 'D' for those debitors which can't satisfy their financial liabilities anymore (in other words, they are default). \n",
    "\n",
    "The yearly credit rating of a company can be modeled as a Markov chain $(X_n)_{n=0,1,2,\\ldots}$ with state space\n",
    "\n",
    "$$ \\mathcal{S} = \\{ AAA,\\, AA,\\, A,\\, BBB,\\, BB,\\, B,\\, CCC,\\, D \\} $$\n",
    "\n",
    "where $X_n$ represents the credit rating class of a company in the $n$-th year. The transition probabilities are given by\n",
    "\n",
    "\\begin{equation*}\n",
    "\\begin{array}{ccccccccc}\n",
    " & AAA & AA & A & BBB & BB & B & CCC & D \\\\\n",
    " AAA & 92.07 & 7.09 & 0.63 & 0.15 & 0.06 & 0.00 & 0.00 & 0.00 \\\\ \n",
    " AA & 0.62 & 90.84 & 7.76 & 0.59 & 0.06 & 0.10 & 0.02 & 0.01 \\\\\n",
    " A & 0.05 & 2.09 & 91.38 & 5.79 & 0.44 & 0.16 & 0.04 & 0.05 \\\\\n",
    " BBB & 0.03 & 0.21 & 4.10 & 89.37 & 4.82 & 0.86 & 0.24 & 0.37 \\\\\n",
    " BB & 0.03 & 0.08 & 0.40 & 5.54 & 83.24 & 8.15 & 1.11 & 1.45 \\\\\n",
    " B & 0.00 & 0.08 & 0.27 & 0.34 & 5.39 & 82.41 & 4.92 & 6.59 \\\\\n",
    " CCC & 0.10 & 0.00 & 0.29 & 0.58 & 1.55 & 10.54 & 52.80 & 34.14 \\\\\n",
    " D & 0.00 & 0.00 & 0.00 & 0.00 & 0.00 & 0.00 & 0.00 & 100.0\n",
    "\\end{array} \n",
    "\\end{equation*}\n",
    "\n",
    "<i>Remark</i>: For your implementations below, you can label the different states from $0$ to $7$, where $0$ represents state $AAA$, $1$ represents state $AA$, and so on."
   ]
  },
  {
   "cell_type": "markdown",
   "metadata": {},
   "source": [
    "As usual, we start with loading some packages:"
   ]
  },
  {
   "cell_type": "code",
   "execution_count": 5,
   "metadata": {},
   "outputs": [],
   "source": [
    "import numpy as np\n",
    "import matplotlib.pyplot as plt"
   ]
  },
  {
   "cell_type": "markdown",
   "metadata": {},
   "source": [
    "## Problem 1 (3 points)\n",
    "\n",
    "1. Implement the transition probability matrix $P$ from above as a two dimensional <tt>numpy.array()</tt>."
   ]
  },
  {
   "cell_type": "code",
   "execution_count": 9,
   "metadata": {},
   "outputs": [
    {
     "name": "stdout",
     "output_type": "stream",
     "text": [
      "[[9.207e-01 7.090e-02 6.300e-03 1.500e-03 6.000e-04 0.000e+00 0.000e+00\n",
      "  0.000e+00]\n",
      " [6.200e-03 9.084e-01 7.760e-02 5.900e-03 6.000e-04 1.000e-03 2.000e-04\n",
      "  1.000e-04]\n",
      " [5.000e-04 2.090e-02 9.138e-01 5.790e-02 4.400e-03 1.600e-03 4.000e-04\n",
      "  5.000e-04]\n",
      " [3.000e-04 2.100e-03 4.100e-02 8.937e-01 4.820e-02 8.600e-03 2.400e-03\n",
      "  3.700e-03]\n",
      " [3.000e-04 8.000e-04 4.000e-03 5.540e-02 8.324e-01 8.150e-02 1.110e-02\n",
      "  1.450e-02]\n",
      " [0.000e+00 8.000e-04 2.700e-03 3.400e-03 5.390e-02 8.241e-01 4.920e-02\n",
      "  6.590e-02]\n",
      " [1.000e-03 0.000e+00 2.900e-03 5.800e-03 1.550e-02 1.054e-01 5.280e-01\n",
      "  3.414e-01]\n",
      " [0.000e+00 0.000e+00 0.000e+00 0.000e+00 0.000e+00 0.000e+00 0.000e+00\n",
      "  1.000e+00]]\n"
     ]
    }
   ],
   "source": [
    "P = np.array([[92.07,7.09,0.63,0.15,0.06,0.00,0.00,0.00],\n",
    "[0.62,90.84,7.76,0.59,0.06,0.10,0.02,0.01],\n",
    "[0.05,2.09,91.38,5.79,0.44,0.16,0.04,0.05],\n",
    "[0.03,0.21,4.10,89.37,4.82,0.86,0.24,0.37],\n",
    "[0.03,0.08,0.40,5.54,83.24,8.15,1.11,1.45],\n",
    "[0.00,0.08,0.27,0.34,5.39,82.41,4.92,6.59],\n",
    "[0.10,0.00,0.29,0.58,1.55,10.54,52.80,34.14],\n",
    "[0.00,0.00,0.00,0.00,0.00,0.00,0.00,100.0]])\n",
    "P = P/100\n",
    "print(P)"
   ]
  },
  {
   "cell_type": "markdown",
   "metadata": {},
   "source": [
    "2. Provide the probability vector for the transition probabilities from state 3 to all other states 0, 1, 2,..., 7"
   ]
  },
  {
   "cell_type": "code",
   "execution_count": 10,
   "metadata": {},
   "outputs": [
    {
     "name": "stdout",
     "output_type": "stream",
     "text": [
      "[3.000e-04 2.100e-03 4.100e-02 8.937e-01 4.820e-02 8.600e-03 2.400e-03\n",
      " 3.700e-03]\n"
     ]
    }
   ],
   "source": [
    "print(P[3,:])"
   ]
  },
  {
   "cell_type": "markdown",
   "metadata": {},
   "source": [
    "3. Use suitable Matrix operations to <u>compute the probability</u> that a company which is rated with 'AAA' today will <u>not</u> default during the next 8 years. "
   ]
  },
  {
   "cell_type": "code",
   "execution_count": 11,
   "metadata": {},
   "outputs": [
    {
     "name": "stdout",
     "output_type": "stream",
     "text": [
      "0.9982299711480223\n"
     ]
    }
   ],
   "source": [
    "powers = np.linalg.matrix_power(P,8)\n",
    "prob = 1 - powers[0,7]\n",
    "print(prob)"
   ]
  },
  {
   "cell_type": "markdown",
   "metadata": {},
   "source": [
    "## Problem 2 (4 points)\n",
    "\n",
    "Write a function called <tt>simulateRating(...)</tt> which simulates the Markov chain. \n",
    "\n",
    "Input:\n",
    "* <tt>startRating</tt>: Initial state of the Markov chain at time 0\n",
    "* <tt>numberOfSteps</tt>: Number of steps $n$\n",
    "* <tt>P</tt>: Transition matrix\n",
    "\n",
    "Output:\n",
    "* <tt>samplePath</tt>: An array of length $n$ with the values $X_0, X_1, \\ldots, X_n$."
   ]
  },
  {
   "cell_type": "code",
   "execution_count": 32,
   "metadata": {},
   "outputs": [],
   "source": [
    "def simulateRating(startRating, numberOfSteps, P):\n",
    "    samplePath = [startRating]\n",
    "    step = P[startRating]\n",
    "    \n",
    "    for n in range(numberOfSteps):\n",
    "        after = np.random.choice(8, p = step)\n",
    "        samplePath.append(after)\n",
    "        step = P[after]\n",
    "    return samplePath"
   ]
  },
  {
   "cell_type": "code",
   "execution_count": 33,
   "metadata": {},
   "outputs": [
    {
     "data": {
      "text/plain": [
       "[0, 0, 0, 0, 0, 0, 0, 0, 1, 1, 1]"
      ]
     },
     "execution_count": 33,
     "metadata": {},
     "output_type": "execute_result"
    }
   ],
   "source": [
    "## TEST YOUR FUNCTION HERE\n",
    "simulateRating( startRating = 0, numberOfSteps = 10, P = P)"
   ]
  },
  {
   "cell_type": "markdown",
   "metadata": {},
   "source": [
    "## Problem 3 (3 points)\n",
    "\n",
    "Write a code to simulate and plot <tt>numPaths = 5</tt> simulated paths of length <tt>lengthPath = 100</tt> with staring value <tt>startRating = 2</tt> in one plot."
   ]
  },
  {
   "cell_type": "code",
   "execution_count": 43,
   "metadata": {},
   "outputs": [],
   "source": [
    "numPaths = 5\n",
    "lengthPath = 100\n",
    "startRating = 2\n",
    "def Simulation(startRating, numberOfSteps, numPaths, P):\n",
    "    sample = []\n",
    "    for i in range(numPaths):\n",
    "        sample.append(simulateRating(startRating, numberOfSteps, P))\n",
    "    return sample"
   ]
  },
  {
   "cell_type": "code",
   "execution_count": 44,
   "metadata": {},
   "outputs": [
    {
     "data": {
      "image/png": "[encoded data removed]",
      "text/plain": [
       "<Figure size 720x360 with 1 Axes>"
      ]
     },
     "metadata": {
      "needs_background": "light"
     },
     "output_type": "display_data"
    }
   ],
   "source": [
    "    plt.figure( figsize=( 10, 5 ) )\n",
    "    simPaths = Simulation(startRating, lengthPath, numPaths, P)\n",
    "    \n",
    "    for i in simPaths:\n",
    "        plt.plot(np.arange(lengthPath + 1), i)\n",
    "\n",
    "    plt.title('Simulated rating paths')\n",
    "\n",
    "    plt.ylabel('Credit Ratings')\n",
    "    plt.xlabel('Year')\n",
    "\n",
    "    plt.ylim( -1, 8 )\n",
    "    ratings = [ '', 'AAA', 'AA', 'A', 'BBB', 'BB', 'B', 'CCC/C', 'D', '' ]\n",
    "    plt.yticks( range( -1, 9 ), ratings )\n",
    "\n",
    "    plt.show()"
   ]
  },
  {
   "cell_type": "code",
   "execution_count": null,
   "metadata": {},
   "outputs": [],
   "source": []
  }
 ],
 "metadata": {
  "anaconda-cloud": {},
  "kernelspec": {
   "display_name": "Python 3",
   "language": "python",
   "name": "python3"
  },
  "language_info": {
   "codemirror_mode": {
    "name": "ipython",
    "version": 3
   },
   "file_extension": ".py",
   "mimetype": "text/x-python",
   "name": "python",
   "nbconvert_exporter": "python",
   "pygments_lexer": "ipython3",
   "version": "3.7.3"
  }
 },
 "nbformat": 4,
 "nbformat_minor": 2
}
