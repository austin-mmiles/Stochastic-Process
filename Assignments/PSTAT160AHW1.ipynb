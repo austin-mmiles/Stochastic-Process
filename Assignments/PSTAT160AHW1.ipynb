{
 "cells": [
  {
   "cell_type": "markdown",
   "metadata": {},
   "source": [
    "# Python Homework 1\n",
    "\n",
    "**Release date:** Friday, January 10th <br>\n",
    "**Due date:** Friday, January 24th, 11:59 p.m. via GauchoSpace\n",
    "\n",
    "**Instruction:** Please upload your pdf or html file with your code and result on GauchoSpace with filename \"PythonHW1_YOURPERMNUMBER\".\n"
   ]
  },
  {
   "cell_type": "markdown",
   "metadata": {},
   "source": [
    "The purpose of this Python Homework is to get a little bit familiar with sampling from a distribution with the __NumPy Package__.\n",
    "\n",
    "_Attention:_ Don't forget to import the necessary packages!"
   ]
  },
  {
   "cell_type": "markdown",
   "metadata": {},
   "source": [
    "## Problem 1 (6 Points)"
   ]
  },
  {
   "cell_type": "markdown",
   "metadata": {},
   "source": [
    "1. Simulate 100,000 realizations from the binomial distribution with $N$=1000 trails and success probability $p$=0.3."
   ]
  },
  {
   "cell_type": "code",
   "execution_count": 1,
   "metadata": {},
   "outputs": [],
   "source": [
    "import numpy as np\n",
    "import matplotlib.pyplot as plt\n",
    "import time"
   ]
  },
  {
   "cell_type": "code",
   "execution_count": 3,
   "metadata": {},
   "outputs": [],
   "source": [
    "#100,000 simulated realizations\n",
    "a = np.random.binomial(n=1000, p=0.3, size = 100000)\n"
   ]
  },
  {
   "cell_type": "markdown",
   "metadata": {},
   "source": [
    "2. Compute the empirical mean and the empricial standard deviation of your sample and compare these values with the theoretical values."
   ]
  },
  {
   "cell_type": "code",
   "execution_count": 4,
   "metadata": {},
   "outputs": [
    {
     "data": {
      "text/plain": [
       "300.00762"
      ]
     },
     "execution_count": 4,
     "metadata": {},
     "output_type": "execute_result"
    }
   ],
   "source": [
    "#empirical mean\n",
    "emp_mean = np.mean(a)\n",
    "emp_mean\n",
    "#theoritical value is 300"
   ]
  },
  {
   "cell_type": "code",
   "execution_count": 5,
   "metadata": {},
   "outputs": [
    {
     "data": {
      "text/plain": [
       "14.501244840895557"
      ]
     },
     "execution_count": 5,
     "metadata": {},
     "output_type": "execute_result"
    }
   ],
   "source": [
    "#empirical standard deviation\n",
    "emp_std = np.std(a)\n",
    "emp_std\n",
    "#theorital value is 14.49"
   ]
  },
  {
   "cell_type": "markdown",
   "metadata": {},
   "source": [
    "3. Plot a histogram of your sample with the absolute number of counts for each bin. Choose 25 bins."
   ]
  },
  {
   "cell_type": "code",
   "execution_count": 8,
   "metadata": {},
   "outputs": [
    {
     "data": {
      "image/png": "[encoded data removed]",
      "text/plain": [
       "<Figure size 432x288 with 1 Axes>"
      ]
     },
     "metadata": {
      "needs_background": "light"
     },
     "output_type": "display_data"
    }
   ],
   "source": [
    "plt.hist(a, bins = 25, density = False)\n",
    "plt.xlabel('Probability of success')\n",
    "plt.ylabel('Number of trials')\n",
    "plt.title('Histogram')\n",
    "plt.grid(True)\n",
    "plt.show()"
   ]
  },
  {
   "cell_type": "markdown",
   "metadata": {},
   "source": [
    "4. Standardize your sample, that is, subtract the emprical mean and divide by the empricial standard deviation."
   ]
  },
  {
   "cell_type": "code",
   "execution_count": 14,
   "metadata": {},
   "outputs": [
    {
     "data": {
      "text/plain": [
       "-0.0005254721290192238"
      ]
     },
     "execution_count": 14,
     "metadata": {},
     "output_type": "execute_result"
    }
   ],
   "source": [
    "(300-emp_mean)/emp_std"
   ]
  },
  {
   "cell_type": "markdown",
   "metadata": {},
   "source": [
    "5. Plot a histogram of your standardized sample with the counts normalized to form a probability density. Choose again 25 bins. Compare your histrogram with the density of the standard normal distribution by inserting its density into the histogram plot. "
   ]
  },
  {
   "cell_type": "code",
   "execution_count": 10,
   "metadata": {},
   "outputs": [
    {
     "data": {
      "image/png": "[encoded data removed]",
      "text/plain": [
       "<Figure size 432x288 with 1 Axes>"
      ]
     },
     "metadata": {
      "needs_background": "light"
     },
     "output_type": "display_data"
    }
   ],
   "source": [
    "b = []\n",
    "for i in range(0,len(a)):\n",
    "    b.append((a[i] - emp_mean)/emp_std)\n",
    "m, bins, patches = plt.hist(b, 25,facecolor='g', alpha=0.5,density = True,label='standardized sample')\n",
    "stnm = np.random.standard_normal(100000)\n",
    "m, bins, patches = plt.hist(stnm, 25,facecolor='r', alpha=0.5,density = True,label='standard normal dist')\n",
    "plt.legend()\n",
    "plt.xlabel('Standard Deviation')\n",
    "plt.ylabel('Normalized counts')\n",
    "plt.title('Histogram')\n",
    "plt.grid(True)\n",
    "plt.show()"
   ]
  },
  {
   "cell_type": "markdown",
   "metadata": {},
   "source": [
    "## Problem 2 (4 Points)"
   ]
  },
  {
   "cell_type": "markdown",
   "metadata": {},
   "source": [
    "1. Implement the simulation of a biased 6-sided die which takes the values 1,2,3,4,5,6 with probabilities 1/8,1/12,1/8,1/12,1/12,1/2."
   ]
  },
  {
   "cell_type": "code",
   "execution_count": 26,
   "metadata": {},
   "outputs": [],
   "source": [
    "p = [1/8, 1/12, 1/8, 1/12, 1/12, 1/2]\n",
    "die = [1,2,3,4,5,6]"
   ]
  },
  {
   "cell_type": "markdown",
   "metadata": {},
   "source": [
    "2. Plot a histrogramm with 1,000,000 simulations to check if the relative counts of each number is approximately equal to the corresponding specified probabilities.\n",
    "\n",
    "_Remark:_ Specify the bins of your histogram correctly."
   ]
  },
  {
   "cell_type": "code",
   "execution_count": 43,
   "metadata": {},
   "outputs": [],
   "source": [
    "import numpy as np"
   ]
  },
  {
   "cell_type": "code",
   "execution_count": 44,
   "metadata": {},
   "outputs": [],
   "source": [
    "rolls = list(np.random.choice(die, 1000000, p=p))\n",
    "sample = np.random.choice(die, [1000000], p)"
   ]
  },
  {
   "cell_type": "code",
   "execution_count": 45,
   "metadata": {},
   "outputs": [
    {
     "name": "stdout",
     "output_type": "stream",
     "text": [
      "[0.125588, 0.082797, 0.12507, 0.08331, 0.083273, 0.499962]\n"
     ]
    }
   ],
   "source": [
    "counts = [rolls.count(i) for i in die]\n",
    "probs = [float(counts[i])/1000000 for i in range(6)]\n",
    "print(probs)"
   ]
  },
  {
   "cell_type": "code",
   "execution_count": 46,
   "metadata": {},
   "outputs": [
    {
     "data": {
      "text/plain": [
       "Text(0.5, 1.0, 'Histogram')"
      ]
     },
     "execution_count": 46,
     "metadata": {},
     "output_type": "execute_result"
    },
    {
     "data": {
      "image/png": "[encoded data removed]",
      "text/plain": [
       "<Figure size 432x288 with 1 Axes>"
      ]
     },
     "metadata": {
      "needs_background": "light"
     },
     "output_type": "display_data"
    }
   ],
   "source": [
    "plt.hist(rolls)\n",
    "plt.title('Histogram')"
   ]
  },
  {
   "cell_type": "code",
   "execution_count": null,
   "metadata": {},
   "outputs": [],
   "source": []
  }
 ],
 "metadata": {
  "kernelspec": {
   "display_name": "Python 3",
   "language": "python",
   "name": "python3"
  },
  "language_info": {
   "codemirror_mode": {
    "name": "ipython",
    "version": 3
   },
   "file_extension": ".py",
   "mimetype": "text/x-python",
   "name": "python",
   "nbconvert_exporter": "python",
   "pygments_lexer": "ipython3",
   "version": "3.7.3"
  }
 },
 "nbformat": 4,
 "nbformat_minor": 2
}
