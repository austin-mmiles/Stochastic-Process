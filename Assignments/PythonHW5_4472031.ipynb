{
 "cells": [
  {
   "cell_type": "markdown",
   "metadata": {},
   "source": [
    "# Python Homework 5\n",
    "\n",
    "**Release date:** Friday, Feb 7th <br>\n",
    "**Due date:** Friday, __Feb 21th__, 11:59 p.m. via GauchoSpace\n",
    "\n",
    "**Instruction:** Please upload your pdf or html file on GauchoSpace with filename \"PythonHW5_YOURPERMNUMBER\"."
   ]
  },
  {
   "cell_type": "markdown",
   "metadata": {},
   "source": [
    "__Background:__ The purpose of this python homework is to explore the so-called __Arcsine Laws__ numerically. They describe a number of interesting results by relating path properties of the simple symmetric random walk to the __arcsine distribution__ (see also __Lecture 12__!!)."
   ]
  },
  {
   "cell_type": "markdown",
   "metadata": {},
   "source": [
    "Given a <b>simple symmetric random walk</b> $(S_n)_{n\\geq 0}$ with $S_0 =0$, we define the following random variables:\n",
    "* The total number of periods from $0$ to $2N$ the random walk spends above zero: \n",
    "\n",
    "$$C_{2N}= \\vert \\{ n \\in \\{ 1,\\dots , 2N \\} : S_n > 0 \\}\\vert. $$\n",
    "\n",
    "* The time of the last visit to $0$ before time $2N$: \n",
    "\n",
    "$$L_{2N} = \\max \\{ 0 \\leq n \\leq  2N : S_n = 0 \\}.$$\n",
    "\n",
    "* The time when the random walk reaches its maximum value between time $0$ and $2N$: \n",
    "\n",
    "$$M_{2N} = \\operatorname{argmax} \\{ S_n : 0 \\leq n \\leq 2N \\}.$$ "
   ]
  },
  {
   "cell_type": "markdown",
   "metadata": {},
   "source": [
    "As usual, we start with loading some packages:"
   ]
  },
  {
   "cell_type": "code",
   "execution_count": 25,
   "metadata": {},
   "outputs": [],
   "source": [
    "import numpy as np\n",
    "import matplotlib.pyplot as plt\n",
    "from scipy.stats import arcsine\n",
    "import random"
   ]
  },
  {
   "cell_type": "markdown",
   "metadata": {},
   "source": [
    "## Problem 1 (2 Points)\n",
    "\n",
    "1. Write a function <tt>randomWalk(...)</tt> which simulates one <i>path</i> (or <i>trajectory</i>) of a simple symmetric random walk with 2N time steps (i.e. from 0,1,2,...,2N) starting at $S_0=0$.\n",
    "\n",
    "Input: \n",
    "* <tt>lengthOfRandomWalk = 2N</tt> \n",
    "\n",
    "Output:\n",
    "* <tt>samplePath</tt>: Array of length 2N+1 with the entire path of the random walk on 0,1,2,...,2N\n"
   ]
  },
  {
   "cell_type": "code",
   "execution_count": 54,
   "metadata": {},
   "outputs": [],
   "source": [
    "def randomWalk(lengthOfRandomWalk):\n",
    "    random.randint(0,1)\n",
    "    possiblemoves = [-1,1]\n",
    "    samplepath = []\n",
    "    samplepath.append(0)\n",
    "    for i in range(2*int(lengthOfRandomWalk)):\n",
    "        samplepath.append(int(samplepath[int(i)])+int(possiblemoves[random.randint(0,1)]))\n",
    "    return samplepath"
   ]
  },
  {
   "cell_type": "code",
   "execution_count": 55,
   "metadata": {},
   "outputs": [
    {
     "name": "stdout",
     "output_type": "stream",
     "text": [
      "[0, 1, 2, 1, 2, 1, 0, 1, 0, -1, -2, -1, 0, -1, -2, -1, 0, 1, 0, 1, 0, 1, 0, 1, 2, 1, 0, -1, 0, -1, 0, 1, 2, 1, 2, 1, 0, 1, 0, -1, -2, -1, -2, -1, -2, -3, -4, -3, -4, -3, -2, -1, 0, 1, 0, -1, 0, 1, 0, 1, 0, 1, 0, 1, 0, -1, -2, -3, -4, -5, -6, -7, -8, -7, -6, -5, -6, -7, -6, -7, -8, -9, -10, -9, -10, -9, -8, -9, -10, -11, -12, -11, -12, -11, -10, -9, -8, -7, -8, -7, -6, -5, -4, -3, -2, -3, -4, -3, -2, -1, -2, -1, 0, -1, -2, -3, -4, -5, -4, -3, -2, -1, -2, -3, -2, -3, -2, -1, 0, -1, 0, -1, -2, -3, -4, -3, -4, -3, -4, -5, -6, -5, -4, -5, -6, -7, -8, -9, -10, -9, -8, -7, -6, -5, -6, -5, -6, -7, -6, -5, -4, -3, -2, -1, -2, -1, 0, 1, 0, 1, 2, 1, 2, 3, 4, 5, 6, 7, 6, 5, 4, 3, 4, 5, 6, 5, 6, 5, 6, 7, 6, 7, 8, 9, 8, 7, 8, 9, 10, 9, 10]\n"
     ]
    }
   ],
   "source": [
    "## TEST YOUR FUNCTION HERE\n",
    "print(randomWalk(100))"
   ]
  },
  {
   "cell_type": "markdown",
   "metadata": {},
   "source": [
    "2. Plot the trajectory of the random walk you simulated in 1.)"
   ]
  },
  {
   "cell_type": "code",
   "execution_count": 56,
   "metadata": {},
   "outputs": [
    {
     "data": {
      "text/plain": [
       "[<matplotlib.lines.Line2D at 0x21d878b1470>]"
      ]
     },
     "execution_count": 56,
     "metadata": {},
     "output_type": "execute_result"
    },
    {
     "data": {
      "image/png": "[encoded data removed]",
      "text/plain": [
       "<Figure size 432x288 with 1 Axes>"
      ]
     },
     "metadata": {
      "needs_background": "light"
     },
     "output_type": "display_data"
    }
   ],
   "source": [
    "path = randomWalk(200)\n",
    "plt.plot(path)"
   ]
  },
  {
   "cell_type": "markdown",
   "metadata": {},
   "source": [
    "## Problem 2 (6 points)\n",
    "\n",
    "Write __three__ functions which take a path (= realization) of the random walk as an input and then compute a value (= realization) of the random variables $C_{2N}, L_{2N}, M_{2N}$, respectively, as defined above."
   ]
  },
  {
   "cell_type": "markdown",
   "metadata": {},
   "source": [
    "__1. Function:__ <tt>timeAboveZero(...)</tt>\n",
    "\n",
    "Input: \n",
    "* <tt>path</tt>: Realization of the random walk from the function <tt>randomWalk(2N)</tt> \n",
    "\n",
    "Output:\n",
    "* <tt>result</tt>: Realization of the random variable $C_{2N}$"
   ]
  },
  {
   "cell_type": "code",
   "execution_count": 73,
   "metadata": {},
   "outputs": [],
   "source": [
    "def timeAboveZero(path):\n",
    "    result = 0\n",
    "    for elem in path:\n",
    "        if elem > 0:\n",
    "            result += elem\n",
    "    ## WRITE YOUR OWN CODE HERE\n",
    "    ## HINT: USE numpy.sum() AND A LOGICAL OPERATION\n",
    "\n",
    "    return result"
   ]
  },
  {
   "cell_type": "code",
   "execution_count": 74,
   "metadata": {},
   "outputs": [
    {
     "name": "stdout",
     "output_type": "stream",
     "text": [
      "[0, 1, 2, 3, 2, 3, 4, 3, 2, 1, 2, 3, 2, 3, 2, 1, 2, 3, 2, 3, 4, 3, 4, 5, 6, 5, 6, 5, 6, 5, 4, 3, 4, 5, 6, 5, 6, 5, 6, 5, 4]\n"
     ]
    },
    {
     "data": {
      "text/plain": [
       "146"
      ]
     },
     "execution_count": 74,
     "metadata": {},
     "output_type": "execute_result"
    }
   ],
   "source": [
    "## TEST YOUR FUNCTION HERE\n",
    "path = randomWalk(20)\n",
    "print(path)\n",
    "timeAboveZero(path)"
   ]
  },
  {
   "cell_type": "markdown",
   "metadata": {},
   "source": [
    "__2. Function:__ <tt>TimeOfLastVisitOfZero(...)</tt>\n",
    "\n",
    "Input: \n",
    "* <tt>path</tt>: Realization of the random walk from the function <tt>randomWalk(2N)</tt> \n",
    "\n",
    "Output:\n",
    "* <tt>result</tt>: Realization of the random variable $L_{2N}$"
   ]
  },
  {
   "cell_type": "code",
   "execution_count": 63,
   "metadata": {},
   "outputs": [],
   "source": [
    "def TimeOfLastVisitOfZero(path):\n",
    "    count = 0\n",
    "    inx = 0\n",
    "    for i in path:\n",
    "        if(i == 0):\n",
    "            inx = count\n",
    "        count += 1\n",
    "            \n",
    "    \n",
    "    ## WRITE YOUR OWN CODE HERE\n",
    "    ## HINT: USE numpy.where() AND numpy.amax()\n",
    "        \n",
    "    return inx  "
   ]
  },
  {
   "cell_type": "code",
   "execution_count": 64,
   "metadata": {},
   "outputs": [
    {
     "name": "stdout",
     "output_type": "stream",
     "text": [
      "[0, -1, 0, -1, -2, -3, -2, -3, -4, -5, -6, -7, -8, -7, -8, -7, -8, -7, -8, -7, -6, -5, -6, -5, -6, -5, -4, -3, -4, -5, -6, -7, -8, -7, -8, -9, -10, -11, -10, -9, -10]\n"
     ]
    },
    {
     "data": {
      "text/plain": [
       "2"
      ]
     },
     "execution_count": 64,
     "metadata": {},
     "output_type": "execute_result"
    }
   ],
   "source": [
    "## TEST YOUR FUNCTION HERE\n",
    "path = randomWalk(20)\n",
    "print(path)\n",
    "TimeOfLastVisitOfZero(path)"
   ]
  },
  {
   "cell_type": "markdown",
   "metadata": {},
   "source": [
    "__3. Function:__ <tt>timeHitMax(...)</tt>\n",
    "\n",
    "Input: \n",
    "* <tt>path</tt>: Realization of the random walk from the function <tt>randomWalk(2N)</tt> \n",
    "\n",
    "Output:\n",
    "* <tt>result</tt>: Realization of the random variable $M_{2N}$"
   ]
  },
  {
   "cell_type": "code",
   "execution_count": 65,
   "metadata": {},
   "outputs": [],
   "source": [
    "def timeHitMax(randomWalk):\n",
    "    result = np.argmax(path)\n",
    "    ## WRITE YOUR OWN CODE HERE\n",
    "    ## HINT: USE numpy.argmax()\n",
    "\n",
    "    return result "
   ]
  },
  {
   "cell_type": "code",
   "execution_count": 66,
   "metadata": {},
   "outputs": [
    {
     "name": "stdout",
     "output_type": "stream",
     "text": [
      "[0, 1, 2, 3, 4, 3, 2, 3, 4, 5, 4, 3, 4, 5, 6, 5, 6, 5, 4, 3, 4, 3, 4, 3, 4, 3, 2, 1, 2, 3, 4, 3, 2, 3, 2, 3, 4, 3, 4, 5, 6]\n"
     ]
    },
    {
     "data": {
      "text/plain": [
       "14"
      ]
     },
     "execution_count": 66,
     "metadata": {},
     "output_type": "execute_result"
    }
   ],
   "source": [
    "## TEST YOUR FUNCTION HERE\n",
    "path = randomWalk(20)\n",
    "print(path)\n",
    "timeHitMax(path)"
   ]
  },
  {
   "cell_type": "markdown",
   "metadata": {},
   "source": [
    "## Problem 3 (2 Points)\n",
    "\n",
    "Random Walk theory provides us with the following interesting asymptotic statements (cf. __Lecture 12__):\n",
    "\n",
    "$$\\lim_{N\\rightarrow \\infty} \\mathbb{P} \\left[ \\frac{C_{2N}}{2N} \\leq x\\right] =\\frac{2}{\\pi} \\arcsin(\\sqrt{x})$$\n",
    "\n",
    "$$\\lim_{N\\rightarrow \\infty} \\mathbb{P} \\left[ \\frac{L_{2N}}{2N} \\leq x\\right] =\\frac{2}{\\pi} \\arcsin(\\sqrt{x})$$\n",
    "\n",
    "$$\\lim_{N\\rightarrow \\infty} \\mathbb{P} \\left[ \\frac{M_{2N}}{2N} \\leq x\\right] =\\frac{2}{\\pi} \\arcsin(\\sqrt{x})$$\n",
    "\n",
    "We say that the random variables $C_{2N}/2N, L_{2N}/2N, M_{2N}/2N$ <b>converge in distribution</b> to the Arcsine Distribution."
   ]
  },
  {
   "cell_type": "code",
   "execution_count": 2,
   "metadata": {
    "scrolled": true
   },
   "outputs": [
    {
     "data": {
      "image/png": "[encoded data removed]",
      "text/plain": [
       "<Figure size 432x288 with 1 Axes>"
      ]
     },
     "metadata": {
      "needs_background": "light"
     },
     "output_type": "display_data"
    }
   ],
   "source": [
    "## A PLOT OF THE ARCSINE DENSITY\n",
    "x = np.linspace(arcsine.ppf(0.05), arcsine.ppf(0.95), 100)\n",
    "plt.title(\"Density of the arcsine distribution\")\n",
    "plt.plot(x, arcsine.pdf(x), linewidth=2, color='b')\n",
    "plt.show()"
   ]
  },
  {
   "cell_type": "markdown",
   "metadata": {},
   "source": [
    "For $2N = 1000$ sample 10,000 realizations of each of the random variables $C_{2N}/2N, L_{2N}/2N,$ and $M_{2N}/2N$, respectively by using your functions above. Display a normalized histogram for all three simulations, along with the probability density function of the arcsine distribution, to check the above facts numerically! "
   ]
  },
  {
   "cell_type": "code",
   "execution_count": 80,
   "metadata": {},
   "outputs": [],
   "source": [
    "#sample of C2N/2N\n",
    "C = []\n",
    "for i in range(10000):\n",
    "    s = timeAboveZero(randomWalk(200))\n",
    "    C.append(s)\n",
    "#sample of L2N/2N\n",
    "L = []\n",
    "for i in range(10000):\n",
    "    s = TimeOfLastVisitOfZero(randomWalk(200))\n",
    "    L.append(s)\n",
    "#sample of M2N/2N    \n",
    "M = []\n",
    "for i in range(10000):\n",
    "    s = timeHitMax(randomWalk(200))\n",
    "    M.append(s)    "
   ]
  },
  {
   "cell_type": "code",
   "execution_count": 82,
   "metadata": {},
   "outputs": [
    {
     "name": "stderr",
     "output_type": "stream",
     "text": [
      "C:\\Users\\theau\\Anaconda3\\lib\\site-packages\\scipy\\stats\\_continuous_distns.py:390: RuntimeWarning: divide by zero encountered in true_divide\n",
      "  return 1.0/np.pi/np.sqrt(x*(1-x))\n"
     ]
    },
    {
     "data": {
      "image/png": "[encoded data removed]",
      "text/plain": [
       "<Figure size 720x360 with 1 Axes>"
      ]
     },
     "metadata": {
      "needs_background": "light"
     },
     "output_type": "display_data"
    },
    {
     "data": {
      "image/png": "[encoded data removed]",
      "text/plain": [
       "<Figure size 720x360 with 1 Axes>"
      ]
     },
     "metadata": {
      "needs_background": "light"
     },
     "output_type": "display_data"
    },
    {
     "data": {
      "image/png": "[encoded data removed]",
      "text/plain": [
       "<Figure size 720x360 with 1 Axes>"
      ]
     },
     "metadata": {
      "needs_background": "light"
     },
     "output_type": "display_data"
    }
   ],
   "source": [
    "# COMPLETE/MODIFY THE PLOT COMMANDS ACCORDINGLY\n",
    "\n",
    "N = 500\n",
    "M = 10000\n",
    "\n",
    "\n",
    "plt.figure(figsize=(10,5))\n",
    "plt.title(\"Normalized histogram for 10000 realisations of $C_{1000}$\")\n",
    "plt.hist(C, bins='auto', density='True')\n",
    "plt.plot(C, arcsine.pdf(C), linewidth=2, color='r', label=\"true arcsine density\")\n",
    "plt.legend()\n",
    "\n",
    "\n",
    "plt.figure(figsize=(10,5))\n",
    "plt.title(\"Normalized histogram for 10000 realisations of $L_{1000}$\")\n",
    "plt.hist(L, bins='auto', density='True')\n",
    "plt.plot(L, arcsine.pdf(L), linewidth=2, color='r', label=\"true arcsine density\")\n",
    "plt.legend()\n",
    "\n",
    "\n",
    "plt.figure(figsize=(10,5))\n",
    "plt.title(\"Normalized histogram for 10000 realisations of $M_{1000}$\")\n",
    "plt.hist(M, bins='auto', density='True')\n",
    "plt.plot(M, arcsine.pdf(M), linewidth=2, color='r', label=\"true arcsine density\")\n",
    "plt.legend()\n",
    "\n",
    "plt.show()"
   ]
  },
  {
   "cell_type": "code",
   "execution_count": null,
   "metadata": {},
   "outputs": [],
   "source": []
  }
 ],
 "metadata": {
  "anaconda-cloud": {},
  "kernelspec": {
   "display_name": "Python 3",
   "language": "python",
   "name": "python3"
  },
  "language_info": {
   "codemirror_mode": {
    "name": "ipython",
    "version": 3
   },
   "file_extension": ".py",
   "mimetype": "text/x-python",
   "name": "python",
   "nbconvert_exporter": "python",
   "pygments_lexer": "ipython3",
   "version": "3.7.3"
  }
 },
 "nbformat": 4,
 "nbformat_minor": 2
}
