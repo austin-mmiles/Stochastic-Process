{
 "cells": [
  {
   "cell_type": "markdown",
   "metadata": {},
   "source": [
    "# Python Homework 3\n",
    "\n",
    "**Release date:** Monday, January 27th <br>\n",
    "**Due date:** Friday, __Feb 7th__, 11:59 p.m. via GauchoSpace\n",
    "\n",
    "**Instruction:** Please upload your pdf or html file on GauchoSpace with filename \"PythonHW3_YOURPERMNUMBER.ipynb\".\n"
   ]
  },
  {
   "cell_type": "markdown",
   "metadata": {},
   "source": [
    "In this Python Homework you are asked to implement two simulations related to problems discussed in class.\n"
   ]
  },
  {
   "cell_type": "markdown",
   "metadata": {},
   "source": [
    "As usual, start with loading some packages:"
   ]
  },
  {
   "cell_type": "code",
   "execution_count": 14,
   "metadata": {},
   "outputs": [],
   "source": [
    "import numpy as np\n",
    "from enum import Enum\n",
    "from random import randint"
   ]
  },
  {
   "cell_type": "markdown",
   "metadata": {},
   "source": [
    "## Problem 1 (5 Points)\n",
    "\n",
    "Since the beginning of Spring quarter Julie goes every day to Woodstock Pizza, orders a slice of pizza, and picks a topping - pepper, pepperoni, pineapple, prawns, or prosciutto - unifromly at random. "
   ]
  },
  {
   "cell_type": "markdown",
   "metadata": {},
   "source": [
    "1. Implement a simulator which uniformly samples from one topping:"
   ]
  },
  {
   "cell_type": "code",
   "execution_count": 18,
   "metadata": {},
   "outputs": [],
   "source": [
    "# number the toppings\n",
    "class topping(Enum):\n",
    "    pepper = 1\n",
    "    pepperoni = 2\n",
    "    pineapple = 3\n",
    "    prawns = 4\n",
    "    prosciutto = 5\n",
    "\n",
    "# randomly generate a topping\n",
    "def simulation():\n",
    "    num = randint(1, 5)\n",
    "    return topping(num)"
   ]
  },
  {
   "cell_type": "markdown",
   "metadata": {},
   "source": [
    "2. On the day that Julie first picks pineapple, find the empricial mean of the number of prior days in which she picked pepperoni by running 10000 simulations.\n",
    "\n"
   ]
  },
  {
   "cell_type": "code",
   "execution_count": 16,
   "metadata": {},
   "outputs": [
    {
     "name": "stdout",
     "output_type": "stream",
     "text": [
      "1.0136\n"
     ]
    }
   ],
   "source": [
    "# simulation mean of pepporoni before pineapple \n",
    "def pepperoni_before_pineapple():\n",
    "    number = 0\n",
    "    for i in range(10000):\n",
    "        Top = simulation()\n",
    "        while Top != topping.pineapple:\n",
    "            if Top == topping.pepperoni:\n",
    "                number = number + 1\n",
    "            Top = simulation()\n",
    "            mean = number / 10000\n",
    "    return mean\n",
    "\n",
    "print(pepperoni_before_pineapple())"
   ]
  },
  {
   "cell_type": "markdown",
   "metadata": {},
   "source": [
    "## Problem 2 (5 Points)\n",
    "\n",
    "Recall Problem 3.3:\n",
    "\n",
    "A health insurance will pay for a medical expense subject to a USD 100 deductible. Assume that the amount of the expense is exponentially distributed with mean USD 500.\n",
    "\n",
    "Compute the empirical mean and emprical standard deviation of the payout by the insurance company by using 100000 samples."
   ]
  },
  {
   "cell_type": "code",
   "execution_count": 20,
   "metadata": {},
   "outputs": [
    {
     "name": "stdout",
     "output_type": "stream",
     "text": [
      "399.57763516631877 499.76531799797044\n"
     ]
    }
   ],
   "source": [
    "# Sample from exponential distribution\n",
    "expense_amount = np.random.exponential(size = 100000, scale = 500)\n",
    "\n",
    "# Empirical mean and std\n",
    "for i in range(len(expense_amount)):\n",
    "    expense_amount[i] -= 100\n",
    "mean = np.mean(expense_amount)\n",
    "standard_deviation = np.std(expense_amount)\n",
    "print(mean, standard_deviation)"
   ]
  },
  {
   "cell_type": "code",
   "execution_count": null,
   "metadata": {},
   "outputs": [],
   "source": []
  }
 ],
 "metadata": {
  "kernelspec": {
   "display_name": "Python 3",
   "language": "python",
   "name": "python3"
  },
  "language_info": {
   "codemirror_mode": {
    "name": "ipython",
    "version": 3
   },
   "file_extension": ".py",
   "mimetype": "text/x-python",
   "name": "python",
   "nbconvert_exporter": "python",
   "pygments_lexer": "ipython3",
   "version": "3.7.3"
  }
 },
 "nbformat": 4,
 "nbformat_minor": 2
}
